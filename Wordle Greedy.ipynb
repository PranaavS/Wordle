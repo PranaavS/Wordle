{
 "cells": [
  {
   "cell_type": "code",
   "execution_count": 19,
   "id": "8a2be1b0-a302-40cb-b029-48db4c0d8f2b",
   "metadata": {},
   "outputs": [],
   "source": [
    "class tile:\n",
    "    def __init__(self, letter, color):\n",
    "        self.letter = letter\n",
    "        self.color = color\n",
    "    \n",
    "    def __str__(self):\n",
    "        return \"Color: \" + self.color + \"; Letter: \" + self.letter"
   ]
  },
  {
   "cell_type": "code",
   "execution_count": 20,
   "id": "650fab11-c9c8-4d53-8667-07d893e45ffc",
   "metadata": {
    "tags": []
   },
   "outputs": [],
   "source": [
    "class word:\n",
    "    def __init__(self, word, score):\n",
    "        self.word = word\n",
    "        self.score = score\n",
    "        \n",
    "    def __str__(self):\n",
    "        return self.word"
   ]
  },
  {
   "cell_type": "code",
   "execution_count": 21,
   "id": "33ae4613-a6d5-4c01-b197-d4c0347a4c95",
   "metadata": {
    "tags": []
   },
   "outputs": [],
   "source": [
    "def wordToTiles(word, colors):\n",
    "    tiles = []\n",
    "    \n",
    "    if len(word) != len(colors):\n",
    "        print(\"Mismatched string lengths\")\n",
    "        \n",
    "    \n",
    "    for letter, color in zip(word, colors):\n",
    "        tiles.append(tile(letter, color))\n",
    "    \n",
    "    return tiles"
   ]
  },
  {
   "cell_type": "code",
   "execution_count": 22,
   "id": "31055656-e773-470a-89d6-f9230559a9cc",
   "metadata": {
    "tags": []
   },
   "outputs": [],
   "source": [
    "with open (\"wordlist.txt\", \"r\") as f:\n",
    "       words = f.read().split(\"\\n\")\n",
    "\n",
    "words = [word(w, i) for w, i in zip(words, reversed(range(len(words)))) if len(w) == 5]"
   ]
  },
  {
   "cell_type": "code",
   "execution_count": 23,
   "id": "d3b65e2d-ca36-4937-915d-f913ceaeb8ef",
   "metadata": {
    "tags": []
   },
   "outputs": [],
   "source": [
    "currBoard = []"
   ]
  },
  {
   "cell_type": "code",
   "execution_count": 24,
   "id": "7641b5f2-bae4-475b-b4f8-c87ca243cb43",
   "metadata": {
    "tags": []
   },
   "outputs": [],
   "source": [
    "def score(w):\n",
    "    return w.score"
   ]
  },
  {
   "cell_type": "code",
   "execution_count": null,
   "id": "8beefe44-9d08-4186-a5a5-378647e1db3d",
   "metadata": {
    "tags": []
   },
   "outputs": [],
   "source": [
    "def bestMove(currBoard):\n",
    "    \n",
    "    knownLetters = []\n",
    "    \n",
    "    wordsCopy = words\n",
    "            \n",
    "    for row in currBoard: # row is of type tile[]\n",
    "        for index, element in zip(range(len(row)), row): # element is of type tile; index is of type int\n",
    "            \n",
    "            if element.color == \"g\": # if tile is green\n",
    "                for w in wordsCopy: # bias against words that contain letters which are known to be green\n",
    "                    for letter in w.word:\n",
    "                        if letter == element.letter:\n",
    "                            w.score -= 1000\n",
    "                                \n",
    "                        \n",
    "            if element.color == \"y\": # if tile is yellow\n",
    "                for w in wordsCopy: # bias against words that contain letters which are known to be yellow\n",
    "                    for letter in w.word:\n",
    "                        if letter == element.letter:\n",
    "                            w.score -= 1000\n",
    "                            \n",
    "    for w in wordsCopy:\n",
    "        for letter1 in w.word: # bias against words with duplicate letters\n",
    "            for letter2 in w.word:\n",
    "                if letter1 == letter2:\n",
    "                    w.score -= 1000\n",
    "    \n",
    "    wordsCopy.sort(reverse=True, key=score)\n",
    "    \n",
    "    return wordsCopy[0]"
   ]
  },
  {
   "cell_type": "code",
   "execution_count": 26,
   "id": "f9936e40-c68d-480b-833e-3003bd91b3f4",
   "metadata": {},
   "outputs": [],
   "source": [
    "def check(correctWord, guess):\n",
    "    accuracy = \"\"\n",
    "    for letter, index in zip(guess, range(len(guess))):\n",
    "        if letter == correctWord.word[index]:\n",
    "            accuracy += \"g\"\n",
    "        elif letter in correctWord.word:\n",
    "            accuracy += \"y\"\n",
    "        elif letter not in correctWord.word:\n",
    "            accuracy += \"b\"\n",
    "            \n",
    "    return accuracy"
   ]
  },
  {
   "cell_type": "code",
   "execution_count": 27,
   "id": "7837b5e3-fcad-4761-a881-e8b7012685d4",
   "metadata": {
    "tags": []
   },
   "outputs": [
    {
     "name": "stdout",
     "output_type": "stream",
     "text": [
      "print\n"
     ]
    }
   ],
   "source": [
    "import random\n",
    "\n",
    "def chooseWord():\n",
    "    return random.choices(words, weights = reversed(list(range(len(words)))), k=1)[0]\n",
    "\n",
    "correctWord = chooseWord()\n",
    "\n",
    "print(correctWord)"
   ]
  },
  {
   "cell_type": "code",
   "execution_count": 28,
   "id": "e0888b0a-044c-4682-87c0-853d96b33988",
   "metadata": {
    "tags": []
   },
   "outputs": [],
   "source": [
    "def play():\n",
    "    guess = word(\"salet\", 0)   \n",
    "    print(guess)\n",
    "    i = 0\n",
    "    accuracy = \"\"\n",
    "    \n",
    "    guesses = [guess.word]\n",
    "    \n",
    "    while accuracy != \"ggggg\" and i < 6:\n",
    "        accuracy = check(correctWord, guess.word)\n",
    "        print(accuracy)\n",
    "        currBoard.append(wordToTiles(guess.word, accuracy))\n",
    "        guess = bestMove(currBoard)\n",
    "        \n",
    "        guesses.append(guess.word)\n",
    "        \n",
    "        print(guess)\n",
    "        i += 1\n",
    "    \n",
    "    guesses = guesses[:-1]\n",
    "    \n",
    "    if accuracy == \"ggggg\":\n",
    "        return (correctWord.word, i, *guesses)\n",
    "    else:\n",
    "        return (correctWord.word, False, *guesses)"
   ]
  },
  {
   "cell_type": "code",
   "execution_count": 29,
   "id": "3d13498f-f135-4b1a-a107-4e4df1f3f623",
   "metadata": {
    "tags": []
   },
   "outputs": [
    {
     "name": "stdout",
     "output_type": "stream",
     "text": [
      "salet\n",
      "bbbbg\n",
      "abhor\n",
      "bbbby\n",
      "abide\n",
      "bbgbb\n",
      "abled\n",
      "bbbbb\n",
      "abled\n",
      "bbbbb\n",
      "abled\n",
      "bbbbb\n",
      "abled\n"
     ]
    },
    {
     "data": {
      "text/plain": [
       "('print', False, 'salet', 'abhor', 'abide', 'abled', 'abled', 'abled')"
      ]
     },
     "execution_count": 29,
     "metadata": {},
     "output_type": "execute_result"
    }
   ],
   "source": [
    "currBoard = []\n",
    "play()"
   ]
  },
  {
   "cell_type": "code",
   "execution_count": 30,
   "id": "1cb912f6-4842-4c9b-afb6-0acd26ffb3e6",
   "metadata": {},
   "outputs": [],
   "source": [
    "import pandas as pd"
   ]
  },
  {
   "cell_type": "code",
   "execution_count": 31,
   "id": "a09d6fa4-eb89-4484-86a9-14bfe9150ed1",
   "metadata": {
    "tags": []
   },
   "outputs": [],
   "source": [
    "%%capture\n",
    "\n",
    "results = []\n",
    "for i in range(1000):\n",
    "    currBoard = []\n",
    "    correctWord = chooseWord()\n",
    "    results.append(play())"
   ]
  },
  {
   "cell_type": "code",
   "execution_count": 32,
   "id": "59f0cc1e-0f49-4940-9108-687a0e99f79a",
   "metadata": {
    "tags": []
   },
   "outputs": [],
   "source": [
    "df = pd.DataFrame(results, columns=['Answer', 'Score', 'First Guess', 'Second Guess', 'Third Guess', 'Fourth Guess', 'Fifth Guess', 'Sixth Guess'])"
   ]
  },
  {
   "cell_type": "code",
   "execution_count": 33,
   "id": "e056b7e3-1222-4f54-a285-4d760e8dac8a",
   "metadata": {
    "tags": []
   },
   "outputs": [],
   "source": [
    "df.to_csv('resultsWordleWordlist.csv', index=False)"
   ]
  },
  {
   "cell_type": "code",
   "execution_count": 34,
   "id": "5a3f48ce-b080-46f4-98bc-47abadf6a444",
   "metadata": {},
   "outputs": [
    {
     "data": {
      "text/html": [
       "<div>\n",
       "<style scoped>\n",
       "    .dataframe tbody tr th:only-of-type {\n",
       "        vertical-align: middle;\n",
       "    }\n",
       "\n",
       "    .dataframe tbody tr th {\n",
       "        vertical-align: top;\n",
       "    }\n",
       "\n",
       "    .dataframe thead th {\n",
       "        text-align: right;\n",
       "    }\n",
       "</style>\n",
       "<table border=\"1\" class=\"dataframe\">\n",
       "  <thead>\n",
       "    <tr style=\"text-align: right;\">\n",
       "      <th></th>\n",
       "      <th>Answer</th>\n",
       "      <th>Score</th>\n",
       "      <th>First Guess</th>\n",
       "      <th>Second Guess</th>\n",
       "      <th>Third Guess</th>\n",
       "      <th>Fourth Guess</th>\n",
       "      <th>Fifth Guess</th>\n",
       "      <th>Sixth Guess</th>\n",
       "    </tr>\n",
       "  </thead>\n",
       "  <tbody>\n",
       "    <tr>\n",
       "      <th>0</th>\n",
       "      <td>weary</td>\n",
       "      <td>False</td>\n",
       "      <td>salet</td>\n",
       "      <td>block</td>\n",
       "      <td>block</td>\n",
       "      <td>block</td>\n",
       "      <td>block</td>\n",
       "      <td>block</td>\n",
       "    </tr>\n",
       "    <tr>\n",
       "      <th>1</th>\n",
       "      <td>spurn</td>\n",
       "      <td>False</td>\n",
       "      <td>salet</td>\n",
       "      <td>block</td>\n",
       "      <td>block</td>\n",
       "      <td>block</td>\n",
       "      <td>block</td>\n",
       "      <td>block</td>\n",
       "    </tr>\n",
       "    <tr>\n",
       "      <th>2</th>\n",
       "      <td>croak</td>\n",
       "      <td>False</td>\n",
       "      <td>salet</td>\n",
       "      <td>block</td>\n",
       "      <td>dumpy</td>\n",
       "      <td>dumpy</td>\n",
       "      <td>dumpy</td>\n",
       "      <td>dumpy</td>\n",
       "    </tr>\n",
       "    <tr>\n",
       "      <th>3</th>\n",
       "      <td>twine</td>\n",
       "      <td>False</td>\n",
       "      <td>salet</td>\n",
       "      <td>dumpy</td>\n",
       "      <td>dumpy</td>\n",
       "      <td>dumpy</td>\n",
       "      <td>dumpy</td>\n",
       "      <td>dumpy</td>\n",
       "    </tr>\n",
       "    <tr>\n",
       "      <th>4</th>\n",
       "      <td>spire</td>\n",
       "      <td>False</td>\n",
       "      <td>salet</td>\n",
       "      <td>dumpy</td>\n",
       "      <td>flung</td>\n",
       "      <td>flung</td>\n",
       "      <td>flung</td>\n",
       "      <td>flung</td>\n",
       "    </tr>\n",
       "    <tr>\n",
       "      <th>...</th>\n",
       "      <td>...</td>\n",
       "      <td>...</td>\n",
       "      <td>...</td>\n",
       "      <td>...</td>\n",
       "      <td>...</td>\n",
       "      <td>...</td>\n",
       "      <td>...</td>\n",
       "      <td>...</td>\n",
       "    </tr>\n",
       "    <tr>\n",
       "      <th>995</th>\n",
       "      <td>often</td>\n",
       "      <td>False</td>\n",
       "      <td>salet</td>\n",
       "      <td>quick</td>\n",
       "      <td>quick</td>\n",
       "      <td>quick</td>\n",
       "      <td>quick</td>\n",
       "      <td>quick</td>\n",
       "    </tr>\n",
       "    <tr>\n",
       "      <th>996</th>\n",
       "      <td>stein</td>\n",
       "      <td>False</td>\n",
       "      <td>salet</td>\n",
       "      <td>quick</td>\n",
       "      <td>quick</td>\n",
       "      <td>quick</td>\n",
       "      <td>fjord</td>\n",
       "      <td>fjord</td>\n",
       "    </tr>\n",
       "    <tr>\n",
       "      <th>997</th>\n",
       "      <td>finer</td>\n",
       "      <td>False</td>\n",
       "      <td>salet</td>\n",
       "      <td>fjord</td>\n",
       "      <td>fjord</td>\n",
       "      <td>buxom</td>\n",
       "      <td>buxom</td>\n",
       "      <td>buxom</td>\n",
       "    </tr>\n",
       "    <tr>\n",
       "      <th>998</th>\n",
       "      <td>crown</td>\n",
       "      <td>False</td>\n",
       "      <td>salet</td>\n",
       "      <td>buxom</td>\n",
       "      <td>buxom</td>\n",
       "      <td>buxom</td>\n",
       "      <td>quick</td>\n",
       "      <td>jumpy</td>\n",
       "    </tr>\n",
       "    <tr>\n",
       "      <th>999</th>\n",
       "      <td>jaunt</td>\n",
       "      <td>False</td>\n",
       "      <td>salet</td>\n",
       "      <td>jumpy</td>\n",
       "      <td>jumpy</td>\n",
       "      <td>quick</td>\n",
       "      <td>vying</td>\n",
       "      <td>vying</td>\n",
       "    </tr>\n",
       "  </tbody>\n",
       "</table>\n",
       "<p>1000 rows × 8 columns</p>\n",
       "</div>"
      ],
      "text/plain": [
       "    Answer  Score First Guess Second Guess Third Guess Fourth Guess  \\\n",
       "0    weary  False       salet        block       block        block   \n",
       "1    spurn  False       salet        block       block        block   \n",
       "2    croak  False       salet        block       dumpy        dumpy   \n",
       "3    twine  False       salet        dumpy       dumpy        dumpy   \n",
       "4    spire  False       salet        dumpy       flung        flung   \n",
       "..     ...    ...         ...          ...         ...          ...   \n",
       "995  often  False       salet        quick       quick        quick   \n",
       "996  stein  False       salet        quick       quick        quick   \n",
       "997  finer  False       salet        fjord       fjord        buxom   \n",
       "998  crown  False       salet        buxom       buxom        buxom   \n",
       "999  jaunt  False       salet        jumpy       jumpy        quick   \n",
       "\n",
       "    Fifth Guess Sixth Guess  \n",
       "0         block       block  \n",
       "1         block       block  \n",
       "2         dumpy       dumpy  \n",
       "3         dumpy       dumpy  \n",
       "4         flung       flung  \n",
       "..          ...         ...  \n",
       "995       quick       quick  \n",
       "996       fjord       fjord  \n",
       "997       buxom       buxom  \n",
       "998       quick       jumpy  \n",
       "999       vying       vying  \n",
       "\n",
       "[1000 rows x 8 columns]"
      ]
     },
     "execution_count": 34,
     "metadata": {},
     "output_type": "execute_result"
    }
   ],
   "source": [
    "df"
   ]
  },
  {
   "cell_type": "code",
   "execution_count": 35,
   "id": "6f0dab0a-74c0-493f-b9ee-e7e1289b12cb",
   "metadata": {
    "tags": []
   },
   "outputs": [],
   "source": [
    "currBoard = []\n",
    "currBoard.append(wordToTiles(\"salet\", \"bgyyb\"))\n",
    "currBoard.append(wordToTiles(\"lance\", \"ygbby\"))"
   ]
  },
  {
   "cell_type": "code",
   "execution_count": null,
   "id": "19b1b222-9c47-450c-b037-2b640b4d5d21",
   "metadata": {},
   "outputs": [],
   "source": []
  }
 ],
 "metadata": {
  "kernelspec": {
   "display_name": "venv",
   "language": "python",
   "name": "python3"
  },
  "language_info": {
   "codemirror_mode": {
    "name": "ipython",
    "version": 3
   },
   "file_extension": ".py",
   "mimetype": "text/x-python",
   "name": "python",
   "nbconvert_exporter": "python",
   "pygments_lexer": "ipython3",
   "version": "3.12.4"
  }
 },
 "nbformat": 4,
 "nbformat_minor": 5
}
