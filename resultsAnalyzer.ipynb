{
 "cells": [
  {
   "cell_type": "code",
   "execution_count": 1,
   "id": "fbc495a6-8d07-4676-aff8-2d177108f6c4",
   "metadata": {
    "tags": []
   },
   "outputs": [],
   "source": [
    "import pandas as pd\n",
    "import matplotlib.pyplot as plt"
   ]
  },
  {
   "cell_type": "code",
   "execution_count": 2,
   "id": "ce029add-aac7-4ccd-8ccf-052789623f1f",
   "metadata": {
    "tags": []
   },
   "outputs": [
    {
     "data": {
      "text/html": [
       "<div>\n",
       "<style scoped>\n",
       "    .dataframe tbody tr th:only-of-type {\n",
       "        vertical-align: middle;\n",
       "    }\n",
       "\n",
       "    .dataframe tbody tr th {\n",
       "        vertical-align: top;\n",
       "    }\n",
       "\n",
       "    .dataframe thead th {\n",
       "        text-align: right;\n",
       "    }\n",
       "</style>\n",
       "<table border=\"1\" class=\"dataframe\">\n",
       "  <thead>\n",
       "    <tr style=\"text-align: right;\">\n",
       "      <th></th>\n",
       "      <th>Answer</th>\n",
       "      <th>Score</th>\n",
       "      <th>First Guess</th>\n",
       "      <th>Second Guess</th>\n",
       "      <th>Third Guess</th>\n",
       "      <th>Fourth Guess</th>\n",
       "      <th>Fifth Guess</th>\n",
       "      <th>Sixth Guess</th>\n",
       "    </tr>\n",
       "  </thead>\n",
       "  <tbody>\n",
       "    <tr>\n",
       "      <th>0</th>\n",
       "      <td>eaten</td>\n",
       "      <td>4</td>\n",
       "      <td>salet</td>\n",
       "      <td>cater</td>\n",
       "      <td>matey</td>\n",
       "      <td>eaten</td>\n",
       "      <td>NaN</td>\n",
       "      <td>NaN</td>\n",
       "    </tr>\n",
       "    <tr>\n",
       "      <th>1</th>\n",
       "      <td>dwarf</td>\n",
       "      <td>5</td>\n",
       "      <td>salet</td>\n",
       "      <td>abhor</td>\n",
       "      <td>cramp</td>\n",
       "      <td>diary</td>\n",
       "      <td>dwarf</td>\n",
       "      <td>NaN</td>\n",
       "    </tr>\n",
       "    <tr>\n",
       "      <th>2</th>\n",
       "      <td>brisk</td>\n",
       "      <td>3</td>\n",
       "      <td>salet</td>\n",
       "      <td>bison</td>\n",
       "      <td>brisk</td>\n",
       "      <td>NaN</td>\n",
       "      <td>NaN</td>\n",
       "      <td>NaN</td>\n",
       "    </tr>\n",
       "    <tr>\n",
       "      <th>3</th>\n",
       "      <td>geese</td>\n",
       "      <td>4</td>\n",
       "      <td>salet</td>\n",
       "      <td>chose</td>\n",
       "      <td>guise</td>\n",
       "      <td>geese</td>\n",
       "      <td>NaN</td>\n",
       "      <td>NaN</td>\n",
       "    </tr>\n",
       "    <tr>\n",
       "      <th>4</th>\n",
       "      <td>setup</td>\n",
       "      <td>2</td>\n",
       "      <td>salet</td>\n",
       "      <td>setup</td>\n",
       "      <td>NaN</td>\n",
       "      <td>NaN</td>\n",
       "      <td>NaN</td>\n",
       "      <td>NaN</td>\n",
       "    </tr>\n",
       "    <tr>\n",
       "      <th>...</th>\n",
       "      <td>...</td>\n",
       "      <td>...</td>\n",
       "      <td>...</td>\n",
       "      <td>...</td>\n",
       "      <td>...</td>\n",
       "      <td>...</td>\n",
       "      <td>...</td>\n",
       "      <td>...</td>\n",
       "    </tr>\n",
       "    <tr>\n",
       "      <th>995</th>\n",
       "      <td>panel</td>\n",
       "      <td>5</td>\n",
       "      <td>salet</td>\n",
       "      <td>bagel</td>\n",
       "      <td>hazel</td>\n",
       "      <td>navel</td>\n",
       "      <td>panel</td>\n",
       "      <td>NaN</td>\n",
       "    </tr>\n",
       "    <tr>\n",
       "      <th>996</th>\n",
       "      <td>posse</td>\n",
       "      <td>5</td>\n",
       "      <td>salet</td>\n",
       "      <td>chose</td>\n",
       "      <td>noise</td>\n",
       "      <td>rouse</td>\n",
       "      <td>posse</td>\n",
       "      <td>NaN</td>\n",
       "    </tr>\n",
       "    <tr>\n",
       "      <th>997</th>\n",
       "      <td>irate</td>\n",
       "      <td>4</td>\n",
       "      <td>salet</td>\n",
       "      <td>acute</td>\n",
       "      <td>grate</td>\n",
       "      <td>irate</td>\n",
       "      <td>NaN</td>\n",
       "      <td>NaN</td>\n",
       "    </tr>\n",
       "    <tr>\n",
       "      <th>998</th>\n",
       "      <td>dried</td>\n",
       "      <td>5</td>\n",
       "      <td>salet</td>\n",
       "      <td>bicep</td>\n",
       "      <td>grief</td>\n",
       "      <td>drier</td>\n",
       "      <td>dried</td>\n",
       "      <td>NaN</td>\n",
       "    </tr>\n",
       "    <tr>\n",
       "      <th>999</th>\n",
       "      <td>mania</td>\n",
       "      <td>5</td>\n",
       "      <td>salet</td>\n",
       "      <td>bacon</td>\n",
       "      <td>handy</td>\n",
       "      <td>manga</td>\n",
       "      <td>mania</td>\n",
       "      <td>NaN</td>\n",
       "    </tr>\n",
       "  </tbody>\n",
       "</table>\n",
       "<p>1000 rows × 8 columns</p>\n",
       "</div>"
      ],
      "text/plain": [
       "    Answer Score First Guess Second Guess Third Guess Fourth Guess  \\\n",
       "0    eaten     4       salet        cater       matey        eaten   \n",
       "1    dwarf     5       salet        abhor       cramp        diary   \n",
       "2    brisk     3       salet        bison       brisk          NaN   \n",
       "3    geese     4       salet        chose       guise        geese   \n",
       "4    setup     2       salet        setup         NaN          NaN   \n",
       "..     ...   ...         ...          ...         ...          ...   \n",
       "995  panel     5       salet        bagel       hazel        navel   \n",
       "996  posse     5       salet        chose       noise        rouse   \n",
       "997  irate     4       salet        acute       grate        irate   \n",
       "998  dried     5       salet        bicep       grief        drier   \n",
       "999  mania     5       salet        bacon       handy        manga   \n",
       "\n",
       "    Fifth Guess Sixth Guess  \n",
       "0           NaN         NaN  \n",
       "1         dwarf         NaN  \n",
       "2           NaN         NaN  \n",
       "3           NaN         NaN  \n",
       "4           NaN         NaN  \n",
       "..          ...         ...  \n",
       "995       panel         NaN  \n",
       "996       posse         NaN  \n",
       "997         NaN         NaN  \n",
       "998       dried         NaN  \n",
       "999       mania         NaN  \n",
       "\n",
       "[1000 rows x 8 columns]"
      ]
     },
     "execution_count": 2,
     "metadata": {},
     "output_type": "execute_result"
    }
   ],
   "source": [
    "df = pd.read_csv('resultsWordleAnswers.csv')\n",
    "df"
   ]
  },
  {
   "cell_type": "code",
   "execution_count": 3,
   "id": "8417c272-f9a6-4f9f-8b3e-b4b9c307127c",
   "metadata": {
    "tags": []
   },
   "outputs": [],
   "source": [
    "scores = []\n",
    "for score in df[\"Score\"].tolist():\n",
    "    try:\n",
    "        scores.append(int(score))\n",
    "    except:\n",
    "        pass\n"
   ]
  },
  {
   "cell_type": "code",
   "execution_count": 4,
   "id": "2e3beb8a-9993-4def-8b8d-3c8313703559",
   "metadata": {
    "tags": []
   },
   "outputs": [],
   "source": [
    "from collections import Counter"
   ]
  },
  {
   "cell_type": "code",
   "execution_count": 14,
   "id": "e57aca35-bbd7-430b-9b6e-5547f1c0b3d3",
   "metadata": {
    "tags": []
   },
   "outputs": [
    {
     "data": {
      "text/plain": [
       "Counter({'2': 84, '3': 366, '4': 373, '5': 143, '6': 32, 'False': 2})"
      ]
     },
     "execution_count": 14,
     "metadata": {},
     "output_type": "execute_result"
    }
   ],
   "source": [
    "counts = Counter(sorted(df[\"Score\"].tolist()))\n",
    "counts\n",
    "\n",
    "trials = sum(counts.values())\n",
    "percents = {key:value*100/trials for key, value in zip(counts.keys(), counts.values())}\n",
    "\n",
    "counts"
   ]
  },
  {
   "cell_type": "code",
   "execution_count": 6,
   "id": "626fb3a9-ffc2-43de-b76e-056aaa9c6e21",
   "metadata": {
    "tags": []
   },
   "outputs": [],
   "source": [
    "import scienceplots\n",
    "plt.style.use(['science', 'no-latex'])"
   ]
  },
  {
   "cell_type": "code",
   "execution_count": 9,
   "id": "40d7818b-4fc2-46c2-af65-3e10f8362567",
   "metadata": {
    "tags": []
   },
   "outputs": [
    {
     "data": {
      "image/png": "[encoded data removed]",
      "text/plain": [
       "<Figure size 800x300 with 1 Axes>"
      ]
     },
     "metadata": {},
     "output_type": "display_data"
    }
   ],
   "source": [
    "plt.figure(figsize=(8,3))\n",
    "plt.xlabel(\"Number of guesses used\")\n",
    "plt.ylabel(\"Number of games\")\n",
    "\n",
    "plt.bar(counts.keys(), counts.values(), color='red')\n",
    "plt.savefig('results_red.svg', transparent=True, dpi=5000)"
   ]
  },
  {
   "cell_type": "code",
   "execution_count": 8,
   "id": "c727feab-d56a-4486-a8eb-0c45e2600978",
   "metadata": {
    "tags": []
   },
   "outputs": [
    {
     "data": {
      "text/plain": [
       "<BarContainer object of 6 artists>"
      ]
     },
     "execution_count": 8,
     "metadata": {},
     "output_type": "execute_result"
    },
    {
     "data": {
      "image/png": "[encoded data removed]",
      "text/plain": [
       "<Figure size 800x300 with 1 Axes>"
      ]
     },
     "metadata": {},
     "output_type": "display_data"
    }
   ],
   "source": [
    "plt.figure(figsize=(8,3))\n",
    "plt.xlabel(\"Number of guesses used\")\n",
    "plt.ylabel(\"Percentage of games\")\n",
    "plt.bar(percents.keys(), percents.values(), color='orange')"
   ]
  },
  {
   "cell_type": "code",
   "execution_count": null,
   "id": "aae5bc68-12b1-46cd-b1a3-f837189a230b",
   "metadata": {},
   "outputs": [],
   "source": []
  }
 ],
 "metadata": {
  "kernelspec": {
   "display_name": "default:Python",
   "language": "python",
   "name": "conda-env-default-py"
  },
  "language_info": {
   "codemirror_mode": {
    "name": "ipython",
    "version": 3
   },
   "file_extension": ".py",
   "mimetype": "text/x-python",
   "name": "python",
   "nbconvert_exporter": "python",
   "pygments_lexer": "ipython3",
   "version": "3.9.16"
  }
 },
 "nbformat": 4,
 "nbformat_minor": 5
}
