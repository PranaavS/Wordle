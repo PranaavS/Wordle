{
 "cells": [
  {
   "cell_type": "code",
   "execution_count": 38,
   "id": "8a2be1b0-a302-40cb-b029-48db4c0d8f2b",
   "metadata": {},
   "outputs": [],
   "source": [
    "class tile:\n",
    "    def __init__(self, letter, color):\n",
    "        self.letter = letter\n",
    "        self.color = color\n",
    "    \n",
    "    def __str__(self):\n",
    "        return \"Color: \" + self.color + \"; Letter: \" + self.letter"
   ]
  },
  {
   "cell_type": "code",
   "execution_count": 39,
   "id": "650fab11-c9c8-4d53-8667-07d893e45ffc",
   "metadata": {
    "tags": []
   },
   "outputs": [],
   "source": [
    "class word:\n",
    "    def __init__(self, word, score):\n",
    "        self.word = word\n",
    "        self.score = score\n",
    "        \n",
    "    def __str__(self):\n",
    "        return self.word"
   ]
  },
  {
   "cell_type": "code",
   "execution_count": 40,
   "id": "33ae4613-a6d5-4c01-b197-d4c0347a4c95",
   "metadata": {
    "tags": []
   },
   "outputs": [],
   "source": [
    "def wordToTiles(word, colors):\n",
    "    tiles = []\n",
    "    \n",
    "    if len(word) != len(colors):\n",
    "        print(\"Mismatched string lengths\")\n",
    "        \n",
    "    \n",
    "    for letter, color in zip(word, colors):\n",
    "        tiles.append(tile(letter, color))\n",
    "    \n",
    "    return tiles"
   ]
  },
  {
   "cell_type": "code",
   "execution_count": 41,
   "id": "31055656-e773-470a-89d6-f9230559a9cc",
   "metadata": {
    "tags": []
   },
   "outputs": [],
   "source": [
    "with open (\"wordlist.txt\", \"r\") as f:\n",
    "       words = f.read().split(\"\\n\")\n",
    "\n",
    "words = [word(w, i) for w, i in zip(words, reversed(range(len(words)))) if len(w) == 5]"
   ]
  },
  {
   "cell_type": "code",
   "execution_count": 42,
   "id": "d3b65e2d-ca36-4937-915d-f913ceaeb8ef",
   "metadata": {
    "tags": []
   },
   "outputs": [],
   "source": [
    "currBoard = []"
   ]
  },
  {
   "cell_type": "code",
   "execution_count": 43,
   "id": "7641b5f2-bae4-475b-b4f8-c87ca243cb43",
   "metadata": {
    "tags": []
   },
   "outputs": [],
   "source": [
    "def score(w):\n",
    "    return w.score"
   ]
  },
  {
   "cell_type": "code",
   "execution_count": 44,
   "id": "8beefe44-9d08-4186-a5a5-378647e1db3d",
   "metadata": {
    "tags": []
   },
   "outputs": [],
   "source": [
    "def bestMove(currBoard):\n",
    "    \n",
    "    knownLetters = []\n",
    "    \n",
    "    wordsCopy = words\n",
    "    for row in currBoard: # row is of type tile[]\n",
    "        for index, element in zip(range(len(row)), row): # element is of type tile; index is of type int\n",
    "            \n",
    "            if element.color == \"g\": # if tile is green\n",
    "                wordsCopy = [w for w in wordsCopy if w.word[index] == element.letter]\n",
    "                knownLetters.append(element.letter)\n",
    "                \n",
    "            if element.color == \"y\": # if tile is yellow\n",
    "                wordsCopy = [w for w in wordsCopy if element.letter in w.word and element.letter != w.word[index]]\n",
    "                knownLetters.append(element.letter)\n",
    "                \n",
    "            if element.color == \"b\" and element.letter not in knownLetters: # if tile is black/gray and distinct\n",
    "                wordsCopy = [w for w in wordsCopy if element.letter not in w.word]\n",
    "        \n",
    "    # wordsCopy is now only comprised of valid words\n",
    "    \n",
    "    for row in currBoard: # row is of type tile[]\n",
    "        for index, element in zip(range(len(row)), row): # element is of type tile; index is of type int\n",
    "            \n",
    "            if element.color == \"g\": # if tile is green\n",
    "                for w in wordsCopy: # bias against words that contain letters which are known to be green\n",
    "                    for letter in w.word:\n",
    "                        if letter == element.letter:\n",
    "                            w.score -= 1000\n",
    "                                \n",
    "                        \n",
    "            if element.color == \"y\": # if tile is green\n",
    "                for w in wordsCopy: # bias against words that contain letters which are known to be yellow\n",
    "                    for letter in w.word:\n",
    "                        if letter == element.letter:\n",
    "                            w.score -= 1000\n",
    "                            \n",
    "    for w in wordsCopy:\n",
    "        for letter1 in w.word: # bias against words with duplicate letters\n",
    "            for letter2 in w.word:\n",
    "                if letter1 == letter2:\n",
    "                    w.score -= 1000\n",
    "    \n",
    "    wordsCopy.sort(reverse=True, key=score)\n",
    "    \n",
    "    return wordsCopy[0]"
   ]
  },
  {
   "cell_type": "code",
   "execution_count": 45,
   "id": "f9936e40-c68d-480b-833e-3003bd91b3f4",
   "metadata": {},
   "outputs": [],
   "source": [
    "def check(correctWord, guess):\n",
    "    accuracy = \"\"\n",
    "    for letter, index in zip(guess, range(len(guess))):\n",
    "        if letter == correctWord.word[index]:\n",
    "            accuracy += \"g\"\n",
    "        elif letter in correctWord.word:\n",
    "            accuracy += \"y\"\n",
    "        elif letter not in correctWord.word:\n",
    "            accuracy += \"b\"\n",
    "            \n",
    "    return accuracy"
   ]
  },
  {
   "cell_type": "code",
   "execution_count": 46,
   "id": "7837b5e3-fcad-4761-a881-e8b7012685d4",
   "metadata": {
    "tags": []
   },
   "outputs": [
    {
     "name": "stdout",
     "output_type": "stream",
     "text": [
      "acute\n"
     ]
    }
   ],
   "source": [
    "import random\n",
    "\n",
    "def chooseWord():\n",
    "    return random.choices(words, weights = reversed(list(range(len(words)))), k=1)[0]\n",
    "\n",
    "correctWord = chooseWord()\n",
    "\n",
    "print(correctWord)"
   ]
  },
  {
   "cell_type": "code",
   "execution_count": 47,
   "id": "e0888b0a-044c-4682-87c0-853d96b33988",
   "metadata": {
    "tags": []
   },
   "outputs": [],
   "source": [
    "def play():\n",
    "    guess = word(\"salet\", 0)   \n",
    "    print(guess)\n",
    "    i = 0\n",
    "    accuracy = \"\"\n",
    "    \n",
    "    guesses = [guess.word]\n",
    "    \n",
    "    while accuracy != \"ggggg\" and i < 6:\n",
    "        accuracy = check(correctWord, guess.word)\n",
    "        print(accuracy)\n",
    "        currBoard.append(wordToTiles(guess.word, accuracy))\n",
    "        guess = bestMove(currBoard)\n",
    "        \n",
    "        guesses.append(guess.word)\n",
    "        \n",
    "        print(guess)\n",
    "        i += 1\n",
    "    \n",
    "    guesses = guesses[:-1]\n",
    "    \n",
    "    if accuracy == \"ggggg\":\n",
    "        return (correctWord.word, i, *guesses)\n",
    "    else:\n",
    "        return (correctWord.word, False, *guesses)"
   ]
  },
  {
   "cell_type": "code",
   "execution_count": 48,
   "id": "6f0dab0a-74c0-493f-b9ee-e7e1289b12cb",
   "metadata": {
    "tags": []
   },
   "outputs": [],
   "source": [
    "currBoard = []"
   ]
  },
  {
   "cell_type": "code",
   "execution_count": 51,
   "id": "cddeab5f-935d-40fa-a969-f504526310f3",
   "metadata": {
    "tags": []
   },
   "outputs": [
    {
     "data": {
      "text/plain": [
       "'groom'"
      ]
     },
     "execution_count": 51,
     "metadata": {},
     "output_type": "execute_result"
    }
   ],
   "source": [
    "currBoard.append(wordToTiles(\"salet\", \"bbbbb\"))\n",
    "currBoard.append(wordToTiles(\"bingo\", \"bbbyy\"))\n",
    "currBoard.append(wordToTiles(\"gourd\", \"gybyb\"))\n",
    "\n",
    "\n",
    "bestMove(currBoard).word"
   ]
  },
  {
   "cell_type": "code",
   "execution_count": null,
   "id": "c2da5ad1-fa95-47ce-ae9e-2820a0c5d113",
   "metadata": {},
   "outputs": [],
   "source": []
  }
 ],
 "metadata": {
  "kernelspec": {
   "display_name": "default:Python",
   "language": "python",
   "name": "conda-env-default-py"
  },
  "language_info": {
   "codemirror_mode": {
    "name": "ipython",
    "version": 3
   },
   "file_extension": ".py",
   "mimetype": "text/x-python",
   "name": "python",
   "nbconvert_exporter": "python",
   "pygments_lexer": "ipython3",
   "version": "3.9.16"
  }
 },
 "nbformat": 4,
 "nbformat_minor": 5
}
